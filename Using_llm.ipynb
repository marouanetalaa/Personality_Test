{
 "cells": [
  {
   "cell_type": "code",
   "execution_count": null,
   "metadata": {},
   "outputs": [],
   "source": []
  },
  {
   "cell_type": "code",
   "execution_count": 1,
   "metadata": {},
   "outputs": [],
   "source": [
    "from typing import List\n",
    "\n",
    "from langchain.prompts import PromptTemplate\n",
    "from langchain_core.output_parsers import JsonOutputParser\n",
    "from langchain_core.pydantic_v1 import BaseModel, Field\n",
    "from langchain_openai import ChatOpenAI\n",
    "import torch"
   ]
  },
  {
   "cell_type": "code",
   "execution_count": 2,
   "metadata": {},
   "outputs": [],
   "source": [
    "import langchain as lc\n",
    "\n",
    "import dotenv\n",
    "import os\n",
    "\n",
    "dotenv.load_dotenv()\n",
    "\n",
    "cohere_api_key = os.getenv(\"COHERE_API_KEY\")"
   ]
  },
  {
   "cell_type": "code",
   "execution_count": 3,
   "metadata": {},
   "outputs": [
    {
     "data": {
      "text/plain": [
       "50"
      ]
     },
     "execution_count": 3,
     "metadata": {},
     "output_type": "execute_result"
    }
   ],
   "source": [
    "# Creating a list of all 50 sentences as specified\n",
    "sentences = [\n",
    "    \"Am the life of the party.\",\n",
    "    \"Feel little concern for others.\",\n",
    "    \"Am always prepared.\",\n",
    "    \"Get stressed out easily.\",\n",
    "    \"Have a rich vocabulary.\",\n",
    "    \"Don't talk a lot.\",\n",
    "    \"Am interested in people.\",\n",
    "    \"Leave my belongings around.\",\n",
    "    \"Am relaxed most of the time.\",\n",
    "    \"Have difficulty understanding abstract ideas.\",\n",
    "    \"Feel comfortable around people.\",\n",
    "    \"Insult people.\",\n",
    "    \"Pay attention to details.\",\n",
    "    \"Worry about things.\",\n",
    "    \"Have a vivid imagination.\",\n",
    "    \"Keep in the background.\",\n",
    "    \"Sympathize with others' feelings.\",\n",
    "    \"Make a mess of things.\",\n",
    "    \"Seldom feel blue.\",\n",
    "    \"Am not interested in abstract ideas.\",\n",
    "    \"Start conversations.\",\n",
    "    \"Am not interested in other people's problems.\",\n",
    "    \"Get chores done right away.\",\n",
    "    \"Am easily disturbed.\",\n",
    "    \"Have excellent ideas.\",\n",
    "    \"Have little to say.\",\n",
    "    \"Have a soft heart.\",\n",
    "    \"Often forget to put things back in their proper place.\",\n",
    "    \"Get upset easily.\",\n",
    "    \"Do not have a good imagination.\",\n",
    "    \"Talk to a lot of different people at parties.\",\n",
    "    \"Am not really interested in others.\",\n",
    "    \"Like order.\",\n",
    "    \"Change my mood a lot.\",\n",
    "    \"Am quick to understand things.\",\n",
    "    \"Don't like to draw attention to myself.\",\n",
    "    \"Take time out for others.\",\n",
    "    \"Shirk my duties.\",\n",
    "    \"Have frequent mood swings.\",\n",
    "    \"Use difficult words.\",\n",
    "    \"Don't mind being the center of attention.\",\n",
    "    \"Feel others' emotions.\",\n",
    "    \"Follow a schedule.\",\n",
    "    \"Get irritated easily.\",\n",
    "    \"Spend time reflecting on things.\",\n",
    "    \"Am quiet around strangers.\",\n",
    "    \"Make people feel at ease.\",\n",
    "    \"Am exacting in my work.\",\n",
    "    \"Often feel blue.\",\n",
    "    \"Am full of ideas.\"\n",
    "]\n",
    "\n",
    "len(sentences)\n"
   ]
  },
  {
   "cell_type": "code",
   "execution_count": null,
   "metadata": {},
   "outputs": [],
   "source": []
  },
  {
   "cell_type": "code",
   "execution_count": 29,
   "metadata": {},
   "outputs": [
    {
     "data": {
      "text/plain": [
       "tensor([[1., 0., 0., 0., 0., 1., 0., 0., 0., 0., 1., 0., 0., 0., 0., 1., 0., 0.,\n",
       "         0., 0., 1., 0., 0., 0., 0., 1., 0., 0., 0., 0., 1., 0., 0., 0., 0., 1.,\n",
       "         0., 0., 0., 0., 1., 0., 0., 0., 0., 1., 0., 0., 0., 0.],\n",
       "        [0., 1., 0., 0., 0., 0., 1., 0., 0., 0., 0., 1., 0., 0., 0., 0., 1., 0.,\n",
       "         0., 0., 0., 1., 0., 0., 0., 0., 1., 0., 0., 0., 0., 1., 0., 0., 0., 0.,\n",
       "         1., 0., 0., 0., 0., 1., 0., 0., 0., 0., 1., 0., 0., 0.],\n",
       "        [0., 0., 1., 0., 0., 0., 0., 1., 0., 0., 0., 0., 1., 0., 0., 0., 0., 1.,\n",
       "         0., 0., 0., 0., 1., 0., 0., 0., 0., 1., 0., 0., 0., 0., 1., 0., 0., 0.,\n",
       "         0., 1., 0., 0., 0., 0., 1., 0., 0., 0., 0., 1., 0., 0.],\n",
       "        [0., 0., 0., 1., 0., 0., 0., 0., 1., 0., 0., 0., 0., 1., 0., 0., 0., 0.,\n",
       "         1., 0., 0., 0., 0., 1., 0., 0., 0., 0., 1., 0., 0., 0., 0., 1., 0., 0.,\n",
       "         0., 0., 1., 0., 0., 0., 0., 1., 0., 0., 0., 0., 1., 0.],\n",
       "        [0., 0., 0., 0., 1., 0., 0., 0., 0., 1., 0., 0., 0., 0., 1., 0., 0., 0.,\n",
       "         0., 1., 0., 0., 0., 0., 1., 0., 0., 0., 0., 1., 0., 0., 0., 0., 1., 0.,\n",
       "         0., 0., 0., 1., 0., 0., 0., 0., 1., 0., 0., 0., 0., 1.]])"
      ]
     },
     "execution_count": 29,
     "metadata": {},
     "output_type": "execute_result"
    }
   ],
   "source": [
    "import torch\n",
    "\n",
    "# Initialize the tensor with zeros\n",
    "tensor = torch.zeros((5, 50))\n",
    "labels=[\"Extraversion\", \"Agreeableness\",  \"Conscientiousness\", \"Emotional Stability\" , \"Intellect/Imagination\"]\n",
    "\n",
    "# Populate the tensor according to the instructions\n",
    "# The mapping is as follows:\n",
    "# 1+: Extraversion, 2-: Agreeableness (inversed), 3+: Conscientiousness, 4-: Emotional Stability (inversed), 5+: Intellect/Imagination\n",
    "# We invert Agreeableness and Emotional Stability signs because a negative sign (-) in the input implies a positive trait for these dimensions\n",
    "\n",
    "# Mapping input to the tensor\n",
    "input_mapping = {\n",
    "    1: [(1, +1), (6, -1), (11, +1), (16, -1), (21, +1), (26, -1), (31, +1), (36, -1), (41, +1), (46, -1)],\n",
    "    2: [(2, -1), (7, +1), (12, -1), (17, +1), (22, -1), (27, +1), (32, -1), (37, +1), (42, +1), (47, +1)],\n",
    "    3: [(3, +1), (8, -1), (13, +1), (18, -1), (23, +1), (28, -1), (33, +1), (38, -1), (43, +1), (48, +1)],\n",
    "    4: [(4, -1), (9, +1), (14, -1), (19, +1), (24, -1), (29, -1), (34, -1), (39, -1), (44, -1), (49, -1)],\n",
    "    5: [(5, +1), (10, -1), (15, +1), (20, -1), (25, +1), (30, -1), (35, +1), (40, +1), (45, +1), (50, +1)],\n",
    "}\n",
    "\n",
    "for label, updates in input_mapping.items():\n",
    "    for index, value in updates:\n",
    "        if value<0:\n",
    "            tensor[label-1, index-1] = -value\n",
    "        else:\n",
    "            tensor[label-1, index-1] = value\n",
    "\n",
    "tensor\n"
   ]
  },
  {
   "cell_type": "code",
   "execution_count": 5,
   "metadata": {},
   "outputs": [
    {
     "data": {
      "text/plain": [
       "[('Am the life of the party.', 1),\n",
       " ('Feel little concern for others.', -1),\n",
       " ('Am always prepared.', 1),\n",
       " ('Get stressed out easily.', -1),\n",
       " ('Have a rich vocabulary.', 1),\n",
       " (\"Don't talk a lot.\", -1),\n",
       " ('Am interested in people.', 1),\n",
       " ('Leave my belongings around.', -1),\n",
       " ('Am relaxed most of the time.', 1),\n",
       " ('Have difficulty understanding abstract ideas.', -1),\n",
       " ('Feel comfortable around people.', 1),\n",
       " ('Insult people.', -1),\n",
       " ('Pay attention to details.', 1),\n",
       " ('Worry about things.', -1),\n",
       " ('Have a vivid imagination.', 1),\n",
       " ('Keep in the background.', -1),\n",
       " (\"Sympathize with others' feelings.\", 1),\n",
       " ('Make a mess of things.', -1),\n",
       " ('Seldom feel blue.', 1),\n",
       " ('Am not interested in abstract ideas.', -1),\n",
       " ('Start conversations.', 1),\n",
       " (\"Am not interested in other people's problems.\", -1),\n",
       " ('Get chores done right away.', 1),\n",
       " ('Am easily disturbed.', -1),\n",
       " ('Have excellent ideas.', 1),\n",
       " ('Have little to say.', -1),\n",
       " ('Have a soft heart.', 1),\n",
       " ('Often forget to put things back in their proper place.', -1),\n",
       " ('Get upset easily.', -1),\n",
       " ('Do not have a good imagination.', -1),\n",
       " ('Talk to a lot of different people at parties.', 1),\n",
       " ('Am not really interested in others.', -1),\n",
       " ('Like order.', 1),\n",
       " ('Change my mood a lot.', -1),\n",
       " ('Am quick to understand things.', 1),\n",
       " (\"Don't like to draw attention to myself.\", -1),\n",
       " ('Take time out for others.', 1),\n",
       " ('Shirk my duties.', -1),\n",
       " ('Have frequent mood swings.', -1),\n",
       " ('Use difficult words.', 1),\n",
       " (\"Don't mind being the center of attention.\", 1),\n",
       " (\"Feel others' emotions.\", 1),\n",
       " ('Follow a schedule.', 1),\n",
       " ('Get irritated easily.', -1),\n",
       " ('Spend time reflecting on things.', 1),\n",
       " ('Am quiet around strangers.', -1),\n",
       " ('Make people feel at ease.', 1),\n",
       " ('Am exacting in my work.', 1),\n",
       " ('Often feel blue.', -1),\n",
       " ('Am full of ideas.', 1)]"
      ]
     },
     "execution_count": 5,
     "metadata": {},
     "output_type": "execute_result"
    }
   ],
   "source": [
    "for key,value in input_mapping.items():\n",
    "    for x,y in value:\n",
    "        sentences[x-1] = (sentences[x-1],y)\n",
    "\n",
    "sentences\n"
   ]
  },
  {
   "cell_type": "code",
   "execution_count": 32,
   "metadata": {},
   "outputs": [
    {
     "name": "stdout",
     "output_type": "stream",
     "text": [
      "tensor([50., 50., 50., 50., 50.])\n"
     ]
    }
   ],
   "source": [
    "vector=5*torch.ones(50)\n",
    "print(tensor@(vector))"
   ]
  },
  {
   "cell_type": "code",
   "execution_count": 33,
   "metadata": {},
   "outputs": [],
   "source": [
    "from langchain_core.pydantic_v1 import BaseModel, Field\n",
    "\n",
    "\n",
    "\n",
    "\n",
    "class correlationScore(BaseModel):\n",
    "    correlation_score: float = Field(description=\"a correlation score between sentence1 and sentence2 following the instructions in the prompt\")\n",
    "    sentence1: str = Field(description=\"sentence1\")\n",
    "    sentence2: str = Field(description=\"sentence2\")\n",
    "\n",
    "   "
   ]
  },
  {
   "cell_type": "code",
   "execution_count": 34,
   "metadata": {},
   "outputs": [
    {
     "data": {
      "text/plain": [
       "correlationScore(correlation_score=1.0, sentence1='yes', sentence2='no')"
      ]
     },
     "execution_count": 34,
     "metadata": {},
     "output_type": "execute_result"
    }
   ],
   "source": [
    "cc=correlationScore(correlation_score=1,sentence1='yes',sentence2='no')\n",
    "cc"
   ]
  },
  {
   "cell_type": "code",
   "execution_count": 35,
   "metadata": {},
   "outputs": [],
   "source": [
    "from langchain_community.chat_models import ChatCohere\n",
    "\n",
    "model = ChatCohere(cohere_api_key=cohere_api_key,temperature=0)"
   ]
  },
  {
   "cell_type": "code",
   "execution_count": 36,
   "metadata": {},
   "outputs": [],
   "source": [
    "# And a query intented to prompt a language model to populate the data structure.\n",
    "#sentence1 = \"I hate rainy days.\"\n",
    "#sentence2 = \"nothing makes me happier than rainy weather.\"\n",
    "def get_correlation_score(sentence1: str, sentence2: str) -> correlationScore:\n",
    "    # Set up a parser + inject instructions into the prompt template.\n",
    "    parser = JsonOutputParser(pydantic_object=correlationScore)\n",
    "\n",
    "    prompt = PromptTemplate(\n",
    "        template=\"\"\"\n",
    "    Calculate the correlation score between two sentences, where -1 indicates maximum negative correlation (opposite meanings), and 1 indicates maximum positive correlation (similar or related meanings). Provide the correlation score based on the context and meaning of the sentences.\n",
    "    \"{format_instructions}\"\n",
    "\n",
    "    Sentence 1: \"{sentence1}\"\n",
    "    Sentence 2: \"{sentence2}\"\n",
    "\n",
    "    Provide the correlation score.\n",
    "    \"\"\",\n",
    "        input_variables=[\"sentence1\", \"sentence2\"],\n",
    "        partial_variables={\"format_instructions\": parser.get_format_instructions()},\n",
    "    )\n",
    "\n",
    "    chain = prompt | model | parser\n",
    "\n",
    "    ch=chain.invoke({\"sentence1\": sentence1, \"sentence2\": sentence2})\n",
    "    return ch['correlation_score']"
   ]
  },
  {
   "cell_type": "code",
   "execution_count": 37,
   "metadata": {},
   "outputs": [],
   "source": [
    "def convert_score_based_on_key(old_score: float, key: int) -> int:\n",
    "    \"\"\"\n",
    "    Converts a score from a -1 to 1 scale to either a 1 to 5 scale or an inverted 5 to 1 scale\n",
    "    based on the specified key.\n",
    "\n",
    "    Parameters:\n",
    "    - old_score: A float representing the score to convert, expected to be between -1 and 1.\n",
    "    - key: An integer, where 1 indicates a direct conversion to a 1 to 5 scale, and -1 indicates\n",
    "           an inverted conversion to a 5 to 1 scale.\n",
    "\n",
    "    Returns:\n",
    "    - An integer score on the specified scale.\n",
    "    \"\"\"\n",
    "    # Define the old range\n",
    "    old_min, old_max = -1, 1\n",
    "    \n",
    "    if key == 1:\n",
    "        # Direct conversion to a 1 to 5 scale\n",
    "        new_min, new_max = 1, 5\n",
    "    elif key == -1:\n",
    "        # Inverted conversion to a 5 to 1 scale\n",
    "        new_min, new_max = 5, 1\n",
    "    else:\n",
    "        raise ValueError(\"Key must be 1 or -1\")\n",
    "\n",
    "    # Apply the linear transformation formula\n",
    "    new_score = (old_score - old_min) * (new_max - new_min) / (old_max - old_min) + new_min\n",
    "\n",
    "    # Round the result to the nearest whole number\n",
    "    # Ensure the result is within the bounds of the target scale\n",
    "    new_score = round(new_score)\n",
    "    new_score = max(min(new_score, max(new_min, new_max)), min(new_min, new_max))\n",
    "\n",
    "    return new_score\n"
   ]
  },
  {
   "cell_type": "code",
   "execution_count": 38,
   "metadata": {},
   "outputs": [
    {
     "name": "stdout",
     "output_type": "stream",
     "text": [
      "5\n"
     ]
    }
   ],
   "source": [
    "print(convert_score_based_on_key(get_correlation_score('Am the life of the party.', 'Feel little concern for others.'),-1))"
   ]
  },
  {
   "cell_type": "code",
   "execution_count": 39,
   "metadata": {},
   "outputs": [],
   "source": [
    "def apply_correlation(input:str,sentences:List[str]):\n",
    "    correlation_scores = []\n",
    "    for sentence in sentences:\n",
    "        correlation_score = convert_score_based_on_key(get_correlation_score(input, sentence[0]),sentence[1])\n",
    "        correlation_scores.append(correlation_score)\n",
    "    return torch.tensor(correlation_scores)"
   ]
  },
  {
   "cell_type": "code",
   "execution_count": 40,
   "metadata": {},
   "outputs": [],
   "source": [
    "import time\n",
    "import torch\n",
    "from typing import List, Tuple\n",
    "from tqdm import tqdm \n",
    "\n",
    "def apply_correlation(input: str, sentences: List[Tuple[str, int]]):\n",
    "    correlation_scores = []\n",
    "    call_interval = 60.0 / 19  # Calculate the interval in seconds to stay within the limit\n",
    "\n",
    "    for sentence in tqdm(sentences, desc=\"Calculating correlation scores\"):  # Add tqdm loading bar\n",
    "        start_time = time.time()  # Record the start time of the API call\n",
    "\n",
    "        correlation_score = convert_score_based_on_key(get_correlation_score(input, sentence[0]),sentence[1])\n",
    "        correlation_scores.append(correlation_score)\n",
    "\n",
    "        end_time = time.time()  # Record the end time of the API call\n",
    "        elapsed_time = end_time - start_time  # Calculate how long the API call took\n",
    "\n",
    "        if elapsed_time < call_interval:\n",
    "            time.sleep(call_interval - elapsed_time)  # Sleep to maintain the API call rate limit\n",
    "\n",
    "    return torch.tensor(correlation_scores)\n"
   ]
  },
  {
   "cell_type": "code",
   "execution_count": null,
   "metadata": {},
   "outputs": [],
   "source": [
    "sentence_scores= apply_correlation(\"I hate rainy days.\",sentences)"
   ]
  },
  {
   "cell_type": "code",
   "execution_count": 41,
   "metadata": {},
   "outputs": [
    {
     "name": "stderr",
     "output_type": "stream",
     "text": [
      "Calculating correlation scores: 100%|██████████| 50/50 [02:47<00:00,  3.35s/it]\n"
     ]
    },
    {
     "ename": "RuntimeError",
     "evalue": "expected scalar type Float but found Long",
     "output_type": "error",
     "traceback": [
      "\u001b[0;31m---------------------------------------------------------------------------\u001b[0m",
      "\u001b[0;31mRuntimeError\u001b[0m                              Traceback (most recent call last)",
      "Cell \u001b[0;32mIn[41], line 2\u001b[0m\n\u001b[1;32m      1\u001b[0m sentence_scores\u001b[38;5;241m=\u001b[39m apply_correlation(\u001b[38;5;124m\"\u001b[39m\u001b[38;5;124mI hate rainy days.\u001b[39m\u001b[38;5;124m\"\u001b[39m,sentences)\n\u001b[0;32m----> 2\u001b[0m personality_scores \u001b[38;5;241m=\u001b[39m \u001b[43mtensor\u001b[49m\u001b[43m \u001b[49m\u001b[38;5;241;43m@\u001b[39;49m\u001b[43m \u001b[49m\u001b[43msentence_scores\u001b[49m\n\u001b[1;32m      4\u001b[0m personality_scores\n",
      "\u001b[0;31mRuntimeError\u001b[0m: expected scalar type Float but found Long"
     ]
    }
   ],
   "source": [
    "\n",
    "personality_scores = tensor @ sentence_scores\n",
    "\n",
    "personality_scores"
   ]
  },
  {
   "cell_type": "code",
   "execution_count": 42,
   "metadata": {},
   "outputs": [],
   "source": [
    "tensor=tensor.type(torch.LongTensor)"
   ]
  },
  {
   "cell_type": "code",
   "execution_count": 43,
   "metadata": {},
   "outputs": [
    {
     "data": {
      "text/plain": [
       "tensor([26, 22, 24, 35, 18])"
      ]
     },
     "execution_count": 43,
     "metadata": {},
     "output_type": "execute_result"
    }
   ],
   "source": [
    "personality_scores = tensor @ sentence_scores\n",
    "\n",
    "personality_scores"
   ]
  },
  {
   "cell_type": "code",
   "execution_count": 44,
   "metadata": {},
   "outputs": [],
   "source": [
    "def get_personnality_scores(chunks:List[str])->List[torch.Tensor]:\n",
    "    personality_scores = []\n",
    "    for chunk in chunks:\n",
    "        sentence_scores= apply_correlation(chunk,sentences)\n",
    "        personality_scores.append(tensor @ sentence_scores)\n",
    "    return personality_scores\n"
   ]
  },
  {
   "cell_type": "code",
   "execution_count": 45,
   "metadata": {},
   "outputs": [
    {
     "data": {
      "text/plain": [
       "['Extraversion',\n",
       " 'Agreeableness',\n",
       " 'Conscientiousness',\n",
       " 'Emotional Stability',\n",
       " 'Intellect/Imagination']"
      ]
     },
     "execution_count": 45,
     "metadata": {},
     "output_type": "execute_result"
    }
   ],
   "source": [
    "labels"
   ]
  },
  {
   "cell_type": "code",
   "execution_count": 47,
   "metadata": {},
   "outputs": [],
   "source": [
    "traits_scores=list(zip (labels, personality_scores.tolist()))"
   ]
  },
  {
   "cell_type": "code",
   "execution_count": 68,
   "metadata": {},
   "outputs": [
    {
     "data": {
      "text/plain": [
       "43.333333333333336%"
      ]
     },
     "execution_count": 68,
     "metadata": {},
     "output_type": "execute_result"
    }
   ],
   "source": [
    "class Percentage:\n",
    "    def __init__(self, value: float):\n",
    "        if not (0 <= value <= 100):\n",
    "            raise ValueError(\"Percentage value must be between 0 and 100\")\n",
    "        self.value = value\n",
    "\n",
    "    def __str__(self):\n",
    "        return f\"{self.value}%\"\n",
    "    def __repr__(self):\n",
    "        return f\"{self.value}%\"\n",
    "    def __add__(self, other):\n",
    "        if isinstance(other, Percentage):\n",
    "            return Percentage(self.value + other.value)\n",
    "        elif isinstance(other, (int, float)):\n",
    "            return Percentage(self.value + other)\n",
    "        else:\n",
    "            raise TypeError(\"Unsupported operand type(s) for +: 'Percentage' and '{}'\".format(type(other).__name__))\n",
    "    \n",
    "    def __radd__(self, other):\n",
    "        return self.__add__(other)\n",
    "    # lets code the mean function\n",
    "    def mean(self, percentages: List[\"Percentage\"]):\n",
    "        if isinstance(percentages, list):\n",
    "            values = [p.value for p in percentages]\n",
    "            values.append(self.value)\n",
    "            x = sum(values) / len(values)\n",
    "            return Percentage(x)\n",
    "        else:\n",
    "            raise TypeError(\"Unsupported operand type(s) for +: 'Percentage' and '{}'\".format(type(values).__name__))\n",
    "# Example usage\n",
    "p1 = Percentage(25)\n",
    "p2 = Percentage(50)\n",
    "p3 = Percentage(75)\n",
    "p4 = Percentage(100)\n",
    "p5 = Percentage(0)\n",
    "p6 = Percentage(10)\n",
    "\n",
    "p1.mean([p2, p3, p4, p5, p6])"
   ]
  },
  {
   "cell_type": "code",
   "execution_count": 61,
   "metadata": {},
   "outputs": [
    {
     "data": {
      "text/plain": [
       "[('Extraversion', 52.0%),\n",
       " ('Agreeableness', 44.0%),\n",
       " ('Conscientiousness', 48.0%),\n",
       " ('Emotional Stability', 70.0%),\n",
       " ('Intellect/Imagination', 36.0%)]"
      ]
     },
     "execution_count": 61,
     "metadata": {},
     "output_type": "execute_result"
    }
   ],
   "source": [
    "traits_percentages = [(trait, Percentage(score / 50 * 100)) for trait, score in traits_scores]\n",
    "traits_percentages"
   ]
  },
  {
   "cell_type": "code",
   "execution_count": null,
   "metadata": {},
   "outputs": [],
   "source": []
  }
 ],
 "metadata": {
  "kernelspec": {
   "display_name": "Python 3",
   "language": "python",
   "name": "python3"
  },
  "language_info": {
   "codemirror_mode": {
    "name": "ipython",
    "version": 3
   },
   "file_extension": ".py",
   "mimetype": "text/x-python",
   "name": "python",
   "nbconvert_exporter": "python",
   "pygments_lexer": "ipython3",
   "version": "3.9.13"
  }
 },
 "nbformat": 4,
 "nbformat_minor": 2
}
